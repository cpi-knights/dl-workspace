{
 "cells": [
  {
   "cell_type": "code",
   "execution_count": 63,
   "metadata": {},
   "outputs": [],
   "source": [
    "import os\n",
    "import datetime\n",
    "\n",
    "import IPython\n",
    "import IPython.display\n",
    "import matplotlib as mpl\n",
    "import matplotlib.pyplot as plt\n",
    "import numpy as np\n",
    "import pandas as pd\n",
    "import seaborn as sns\n",
    "import tensorflow as tf\n",
    "import glob\n",
    "import gzip\n",
    "from scipy.signal import periodogram\n",
    "\n",
    "mpl.rcParams['figure.figsize'] = (8, 6)\n",
    "mpl.rcParams['axes.grid'] = False"
   ]
  },
  {
   "cell_type": "code",
   "execution_count": 18,
   "metadata": {},
   "outputs": [
    {
     "data": {
      "text/plain": [
       "2711"
      ]
     },
     "execution_count": 18,
     "metadata": {},
     "output_type": "execute_result"
    }
   ],
   "source": [
    "gzipped_files = glob.glob('../datasets/aqi/bulk/**/*.csv.gz', recursive=True)\n",
    "len(gzipped_files)"
   ]
  },
  {
   "cell_type": "code",
   "execution_count": 20,
   "metadata": {},
   "outputs": [
    {
     "data": {
      "text/plain": [
       "2711"
      ]
     },
     "execution_count": 20,
     "metadata": {},
     "output_type": "execute_result"
    }
   ],
   "source": [
    "# List to store individual DataFrames\n",
    "dataframes = []\n",
    "\n",
    "for file in gzipped_files:\n",
    "    with gzip.open(file, 'rt') as f:\n",
    "        df = pd.read_csv(f)        \n",
    "        dataframes.append(df)\n",
    "        \n",
    "len(dataframes)"
   ]
  },
  {
   "cell_type": "code",
   "execution_count": 21,
   "metadata": {},
   "outputs": [],
   "source": [
    "combined_df = pd.concat(dataframes, ignore_index=True)"
   ]
  },
  {
   "cell_type": "code",
   "execution_count": 22,
   "metadata": {},
   "outputs": [
    {
     "data": {
      "text/html": [
       "<div>\n",
       "<style scoped>\n",
       "    .dataframe tbody tr th:only-of-type {\n",
       "        vertical-align: middle;\n",
       "    }\n",
       "\n",
       "    .dataframe tbody tr th {\n",
       "        vertical-align: top;\n",
       "    }\n",
       "\n",
       "    .dataframe thead th {\n",
       "        text-align: right;\n",
       "    }\n",
       "</style>\n",
       "<table border=\"1\" class=\"dataframe\">\n",
       "  <thead>\n",
       "    <tr style=\"text-align: right;\">\n",
       "      <th></th>\n",
       "      <th>location_id</th>\n",
       "      <th>sensors_id</th>\n",
       "      <th>location</th>\n",
       "      <th>datetime</th>\n",
       "      <th>lat</th>\n",
       "      <th>lon</th>\n",
       "      <th>parameter</th>\n",
       "      <th>units</th>\n",
       "      <th>value</th>\n",
       "      <th>measurand</th>\n",
       "    </tr>\n",
       "  </thead>\n",
       "  <tbody>\n",
       "    <tr>\n",
       "      <th>0</th>\n",
       "      <td>8415</td>\n",
       "      <td>24434</td>\n",
       "      <td>US Diplomatic Post: Dhaka-8415</td>\n",
       "      <td>2016-11-09T23:00:00+06:00</td>\n",
       "      <td>23.796373</td>\n",
       "      <td>90.424614</td>\n",
       "      <td>pm25</td>\n",
       "      <td>µg/m³</td>\n",
       "      <td>61.7</td>\n",
       "      <td>NaN</td>\n",
       "    </tr>\n",
       "    <tr>\n",
       "      <th>1</th>\n",
       "      <td>8415</td>\n",
       "      <td>24434</td>\n",
       "      <td>US Diplomatic Post: Dhaka-8415</td>\n",
       "      <td>2016-11-10T00:00:00+06:00</td>\n",
       "      <td>23.796373</td>\n",
       "      <td>90.424614</td>\n",
       "      <td>pm25</td>\n",
       "      <td>µg/m³</td>\n",
       "      <td>67.8</td>\n",
       "      <td>NaN</td>\n",
       "    </tr>\n",
       "    <tr>\n",
       "      <th>2</th>\n",
       "      <td>8415</td>\n",
       "      <td>24434</td>\n",
       "      <td>Dhaka-8415</td>\n",
       "      <td>2016-11-10T01:00:00+06:00</td>\n",
       "      <td>23.796374</td>\n",
       "      <td>90.424614</td>\n",
       "      <td>pm25</td>\n",
       "      <td>µg/m³</td>\n",
       "      <td>109.9</td>\n",
       "      <td>NaN</td>\n",
       "    </tr>\n",
       "    <tr>\n",
       "      <th>3</th>\n",
       "      <td>8415</td>\n",
       "      <td>24434</td>\n",
       "      <td>Dhaka-8415</td>\n",
       "      <td>2016-11-10T02:00:00+06:00</td>\n",
       "      <td>23.796374</td>\n",
       "      <td>90.424614</td>\n",
       "      <td>pm25</td>\n",
       "      <td>µg/m³</td>\n",
       "      <td>127.4</td>\n",
       "      <td>NaN</td>\n",
       "    </tr>\n",
       "    <tr>\n",
       "      <th>4</th>\n",
       "      <td>8415</td>\n",
       "      <td>24434</td>\n",
       "      <td>Dhaka-8415</td>\n",
       "      <td>2016-11-10T03:00:00+06:00</td>\n",
       "      <td>23.796374</td>\n",
       "      <td>90.424614</td>\n",
       "      <td>pm25</td>\n",
       "      <td>µg/m³</td>\n",
       "      <td>122.2</td>\n",
       "      <td>NaN</td>\n",
       "    </tr>\n",
       "  </tbody>\n",
       "</table>\n",
       "</div>"
      ],
      "text/plain": [
       "   location_id  sensors_id                        location  \\\n",
       "0         8415       24434  US Diplomatic Post: Dhaka-8415   \n",
       "1         8415       24434  US Diplomatic Post: Dhaka-8415   \n",
       "2         8415       24434                      Dhaka-8415   \n",
       "3         8415       24434                      Dhaka-8415   \n",
       "4         8415       24434                      Dhaka-8415   \n",
       "\n",
       "                    datetime        lat        lon parameter  units  value  \\\n",
       "0  2016-11-09T23:00:00+06:00  23.796373  90.424614      pm25  µg/m³   61.7   \n",
       "1  2016-11-10T00:00:00+06:00  23.796373  90.424614      pm25  µg/m³   67.8   \n",
       "2  2016-11-10T01:00:00+06:00  23.796374  90.424614      pm25  µg/m³  109.9   \n",
       "3  2016-11-10T02:00:00+06:00  23.796374  90.424614      pm25  µg/m³  127.4   \n",
       "4  2016-11-10T03:00:00+06:00  23.796374  90.424614      pm25  µg/m³  122.2   \n",
       "\n",
       "  measurand  \n",
       "0       NaN  \n",
       "1       NaN  \n",
       "2       NaN  \n",
       "3       NaN  \n",
       "4       NaN  "
      ]
     },
     "execution_count": 22,
     "metadata": {},
     "output_type": "execute_result"
    }
   ],
   "source": [
    "combined_df.head()"
   ]
  },
  {
   "cell_type": "code",
   "execution_count": 23,
   "metadata": {},
   "outputs": [],
   "source": [
    "df_pivot = combined_df.pivot_table(\n",
    "    index=\"datetime\", columns=\"parameter\", values=\"value\", aggfunc=\"first\"\n",
    ").reset_index()\n",
    "df_pivot.rename(columns={\"o3\": \"o3 (ppm)\", \"pm25\": \"pm2.5 (µg/m³)\"}, inplace=True)\n",
    "df_pivot.to_csv('../datasets/aqi/generated/combined_aqi_bulk.csv', index=False, header=True)"
   ]
  },
  {
   "cell_type": "code",
   "execution_count": 24,
   "metadata": {},
   "outputs": [
    {
     "data": {
      "text/html": [
       "<div>\n",
       "<style scoped>\n",
       "    .dataframe tbody tr th:only-of-type {\n",
       "        vertical-align: middle;\n",
       "    }\n",
       "\n",
       "    .dataframe tbody tr th {\n",
       "        vertical-align: top;\n",
       "    }\n",
       "\n",
       "    .dataframe thead th {\n",
       "        text-align: right;\n",
       "    }\n",
       "</style>\n",
       "<table border=\"1\" class=\"dataframe\">\n",
       "  <thead>\n",
       "    <tr style=\"text-align: right;\">\n",
       "      <th>parameter</th>\n",
       "      <th>datetime</th>\n",
       "      <th>o3 (ppm)</th>\n",
       "      <th>pm2.5 (µg/m³)</th>\n",
       "    </tr>\n",
       "  </thead>\n",
       "  <tbody>\n",
       "    <tr>\n",
       "      <th>0</th>\n",
       "      <td>2016-11-09T23:00:00+06:00</td>\n",
       "      <td>NaN</td>\n",
       "      <td>61.7</td>\n",
       "    </tr>\n",
       "    <tr>\n",
       "      <th>1</th>\n",
       "      <td>2016-11-10T00:00:00+06:00</td>\n",
       "      <td>NaN</td>\n",
       "      <td>67.8</td>\n",
       "    </tr>\n",
       "    <tr>\n",
       "      <th>2</th>\n",
       "      <td>2016-11-10T01:00:00+06:00</td>\n",
       "      <td>NaN</td>\n",
       "      <td>109.9</td>\n",
       "    </tr>\n",
       "    <tr>\n",
       "      <th>3</th>\n",
       "      <td>2016-11-10T02:00:00+06:00</td>\n",
       "      <td>NaN</td>\n",
       "      <td>127.4</td>\n",
       "    </tr>\n",
       "    <tr>\n",
       "      <th>4</th>\n",
       "      <td>2016-11-10T03:00:00+06:00</td>\n",
       "      <td>NaN</td>\n",
       "      <td>122.2</td>\n",
       "    </tr>\n",
       "  </tbody>\n",
       "</table>\n",
       "</div>"
      ],
      "text/plain": [
       "parameter                   datetime  o3 (ppm)  pm2.5 (µg/m³)\n",
       "0          2016-11-09T23:00:00+06:00       NaN           61.7\n",
       "1          2016-11-10T00:00:00+06:00       NaN           67.8\n",
       "2          2016-11-10T01:00:00+06:00       NaN          109.9\n",
       "3          2016-11-10T02:00:00+06:00       NaN          127.4\n",
       "4          2016-11-10T03:00:00+06:00       NaN          122.2"
      ]
     },
     "execution_count": 24,
     "metadata": {},
     "output_type": "execute_result"
    }
   ],
   "source": [
    "df_pivot.head()"
   ]
  },
  {
   "cell_type": "code",
   "execution_count": 25,
   "metadata": {},
   "outputs": [
    {
     "data": {
      "text/html": [
       "<div>\n",
       "<style scoped>\n",
       "    .dataframe tbody tr th:only-of-type {\n",
       "        vertical-align: middle;\n",
       "    }\n",
       "\n",
       "    .dataframe tbody tr th {\n",
       "        vertical-align: top;\n",
       "    }\n",
       "\n",
       "    .dataframe thead th {\n",
       "        text-align: right;\n",
       "    }\n",
       "</style>\n",
       "<table border=\"1\" class=\"dataframe\">\n",
       "  <thead>\n",
       "    <tr style=\"text-align: right;\">\n",
       "      <th></th>\n",
       "      <th>count</th>\n",
       "      <th>mean</th>\n",
       "      <th>std</th>\n",
       "      <th>min</th>\n",
       "      <th>25%</th>\n",
       "      <th>50%</th>\n",
       "      <th>75%</th>\n",
       "      <th>max</th>\n",
       "    </tr>\n",
       "    <tr>\n",
       "      <th>parameter</th>\n",
       "      <th></th>\n",
       "      <th></th>\n",
       "      <th></th>\n",
       "      <th></th>\n",
       "      <th></th>\n",
       "      <th></th>\n",
       "      <th></th>\n",
       "      <th></th>\n",
       "    </tr>\n",
       "  </thead>\n",
       "  <tbody>\n",
       "    <tr>\n",
       "      <th>o3 (ppm)</th>\n",
       "      <td>9276.0</td>\n",
       "      <td>-0.119167</td>\n",
       "      <td>0.347033</td>\n",
       "      <td>-0.999</td>\n",
       "      <td>0.001</td>\n",
       "      <td>0.009</td>\n",
       "      <td>0.024</td>\n",
       "      <td>0.147</td>\n",
       "    </tr>\n",
       "    <tr>\n",
       "      <th>pm2.5 (µg/m³)</th>\n",
       "      <td>62184.0</td>\n",
       "      <td>9.615845</td>\n",
       "      <td>304.297649</td>\n",
       "      <td>-999.000</td>\n",
       "      <td>29.000</td>\n",
       "      <td>62.000</td>\n",
       "      <td>126.000</td>\n",
       "      <td>985.000</td>\n",
       "    </tr>\n",
       "  </tbody>\n",
       "</table>\n",
       "</div>"
      ],
      "text/plain": [
       "                 count      mean         std      min     25%     50%  \\\n",
       "parameter                                                               \n",
       "o3 (ppm)        9276.0 -0.119167    0.347033   -0.999   0.001   0.009   \n",
       "pm2.5 (µg/m³)  62184.0  9.615845  304.297649 -999.000  29.000  62.000   \n",
       "\n",
       "                   75%      max  \n",
       "parameter                        \n",
       "o3 (ppm)         0.024    0.147  \n",
       "pm2.5 (µg/m³)  126.000  985.000  "
      ]
     },
     "execution_count": 25,
     "metadata": {},
     "output_type": "execute_result"
    }
   ],
   "source": [
    "df = df_pivot.copy()\n",
    "df.describe().transpose()"
   ]
  },
  {
   "cell_type": "code",
   "execution_count": 26,
   "metadata": {},
   "outputs": [],
   "source": [
    "date_time = pd.to_datetime(df.pop('datetime'), format='ISO8601')\n"
   ]
  },
  {
   "cell_type": "code",
   "execution_count": 56,
   "metadata": {},
   "outputs": [
    {
     "data": {
      "image/png": "[encoded data removed]",
      "text/plain": [
       "<Figure size 640x480 with 2 Axes>"
      ]
     },
     "metadata": {},
     "output_type": "display_data"
    },
    {
     "data": {
      "image/png": "[encoded data removed]",
      "text/plain": [
       "<Figure size 640x480 with 2 Axes>"
      ]
     },
     "metadata": {},
     "output_type": "display_data"
    }
   ],
   "source": [
    "plot_cols = ['pm2.5 (µg/m³)', \"o3 (ppm)\",]\n",
    "plot_features = df[plot_cols]\n",
    "plot_features.index = date_time\n",
    "_ = plot_features.plot(subplots=True)\n",
    "\n",
    "plot_features = df[plot_cols][47129:47150]\n",
    "plot_features.index = date_time[47129:47150]\n",
    "_ = plot_features.plot(subplots=True)"
   ]
  },
  {
   "cell_type": "code",
   "execution_count": 30,
   "metadata": {},
   "outputs": [],
   "source": [
    "o3 = df['o3 (ppm)']\n",
    "bad_o3 = o3 <= 0\n",
    "o3[bad_o3] = 0.001"
   ]
  },
  {
   "cell_type": "code",
   "execution_count": 31,
   "metadata": {},
   "outputs": [],
   "source": [
    "o3 = df['o3 (ppm)']\n",
    "o3[o3.isna()] = 0.001"
   ]
  },
  {
   "cell_type": "code",
   "execution_count": 33,
   "metadata": {},
   "outputs": [],
   "source": [
    "pm25 = df['pm2.5 (µg/m³)']\n",
    "bad_pm25 = pm25 <= 0.0\n",
    "pm25[bad_pm25] = 0.0"
   ]
  },
  {
   "cell_type": "code",
   "execution_count": 34,
   "metadata": {},
   "outputs": [],
   "source": [
    "pm25 = df['pm2.5 (µg/m³)']\n",
    "pm25[pm25.isna()] = 0.0"
   ]
  },
  {
   "cell_type": "code",
   "execution_count": 38,
   "metadata": {},
   "outputs": [],
   "source": [
    "pm25 = df['pm2.5 (µg/m³)']\n",
    "bad_pm25 = pm25 >= 600.0\n",
    "pm25[bad_pm25] = 600.0"
   ]
  },
  {
   "cell_type": "code",
   "execution_count": 62,
   "metadata": {},
   "outputs": [
    {
     "data": {
      "image/png": "[encoded data removed]",
      "text/plain": [
       "<Figure size 800x600 with 1 Axes>"
      ]
     },
     "metadata": {},
     "output_type": "display_data"
    }
   ],
   "source": [
    "fft = tf.signal.rfft(df['pm2.5 (µg/m³)'])\n",
    "f_per_dataset = np.arange(0, len(fft))\n",
    "\n",
    "n_samples_h = len(df['pm2.5 (µg/m³)'])\n",
    "hours_per_year = 24*365.2524\n",
    "years_per_dataset = n_samples_h/(hours_per_year)\n",
    "\n",
    "f_per_year = f_per_dataset/years_per_dataset\n",
    "plt.step(f_per_year, np.abs(fft))\n",
    "plt.xscale('log')\n",
    "plt.ylim(0, 2000000)\n",
    "plt.xlim([0.1, max(plt.xlim())])\n",
    "plt.xticks([1, 4, 365.2524], labels=['1/Year', '1/season', '1/day'])\n",
    "_ = plt.xlabel('Frequency (log scale)')"
   ]
  },
  {
   "cell_type": "code",
   "execution_count": 64,
   "metadata": {},
   "outputs": [],
   "source": [
    "# Assuming `pm25_values` is your time-domain data\n",
    "fs = 1  # Sampling frequency (adjust based on your data)\n",
    "frequencies, power_spectrum = periodogram(df['pm2.5 (µg/m³)'], fs=fs)\n",
    "\n",
    "# Peak Frequency and Magnitude\n",
    "peak_freq_idx = np.argmax(power_spectrum)\n",
    "peak_frequency = frequencies[peak_freq_idx]\n",
    "peak_magnitude = power_spectrum[peak_freq_idx]\n",
    "\n",
    "# Energy in specific bands (e.g., yearly, seasonal, daily)\n",
    "yearly_band = (frequencies >= 1/365) & (frequencies < 1/90)  # Adjust based on your graph\n",
    "yearly_energy = np.sum(power_spectrum[yearly_band])\n",
    "\n",
    "# Spectral Centroid\n",
    "spectral_centroid = np.sum(frequencies * power_spectrum) / np.sum(power_spectrum)\n",
    "\n",
    "# Spectral Bandwidth\n",
    "spectral_bandwidth = np.sqrt(np.sum((frequencies - spectral_centroid)**2 * power_spectrum) / np.sum(power_spectrum))\n",
    "\n",
    "# Spectral Entropy\n",
    "normalized_power = power_spectrum / np.sum(power_spectrum)\n",
    "spectral_entropy = -np.sum(normalized_power * np.log2(normalized_power + 1e-12))  # Avoid log(0)"
   ]
  },
  {
   "cell_type": "code",
   "execution_count": 66,
   "metadata": {},
   "outputs": [
    {
     "data": {
      "text/html": [
       "<div>\n",
       "<style scoped>\n",
       "    .dataframe tbody tr th:only-of-type {\n",
       "        vertical-align: middle;\n",
       "    }\n",
       "\n",
       "    .dataframe tbody tr th {\n",
       "        vertical-align: top;\n",
       "    }\n",
       "\n",
       "    .dataframe thead th {\n",
       "        text-align: right;\n",
       "    }\n",
       "</style>\n",
       "<table border=\"1\" class=\"dataframe\">\n",
       "  <thead>\n",
       "    <tr style=\"text-align: right;\">\n",
       "      <th></th>\n",
       "      <th>peak_frequency</th>\n",
       "      <th>peak_magnitude</th>\n",
       "      <th>yearly_energy</th>\n",
       "      <th>spectral_centroid</th>\n",
       "      <th>spectral_bandwidth</th>\n",
       "      <th>spectral_entropy</th>\n",
       "    </tr>\n",
       "  </thead>\n",
       "  <tbody>\n",
       "    <tr>\n",
       "      <th>0</th>\n",
       "      <td>0.000129</td>\n",
       "      <td>9.615130e+07</td>\n",
       "      <td>3.608725e+07</td>\n",
       "      <td>0.041015</td>\n",
       "      <td>0.088405</td>\n",
       "      <td>8.78054</td>\n",
       "    </tr>\n",
       "  </tbody>\n",
       "</table>\n",
       "</div>"
      ],
      "text/plain": [
       "   peak_frequency  peak_magnitude  yearly_energy  spectral_centroid  \\\n",
       "0        0.000129    9.615130e+07   3.608725e+07           0.041015   \n",
       "\n",
       "   spectral_bandwidth  spectral_entropy  \n",
       "0            0.088405           8.78054  "
      ]
     },
     "execution_count": 66,
     "metadata": {},
     "output_type": "execute_result"
    }
   ],
   "source": [
    "features = {\n",
    "    \"peak_frequency\": peak_frequency,\n",
    "    \"peak_magnitude\": peak_magnitude,\n",
    "    \"yearly_energy\": yearly_energy,\n",
    "    \"spectral_centroid\": spectral_centroid,\n",
    "    \"spectral_bandwidth\": spectral_bandwidth,\n",
    "    \"spectral_entropy\": spectral_entropy,\n",
    "}\n",
    "\n",
    "features_df = pd.DataFrame([features])\n",
    "# print(features_df)\n",
    "features_df.head()\n"
   ]
  },
  {
   "cell_type": "code",
   "execution_count": 67,
   "metadata": {},
   "outputs": [
    {
     "data": {
      "text/html": [
       "<div>\n",
       "<style scoped>\n",
       "    .dataframe tbody tr th:only-of-type {\n",
       "        vertical-align: middle;\n",
       "    }\n",
       "\n",
       "    .dataframe tbody tr th {\n",
       "        vertical-align: top;\n",
       "    }\n",
       "\n",
       "    .dataframe thead th {\n",
       "        text-align: right;\n",
       "    }\n",
       "</style>\n",
       "<table border=\"1\" class=\"dataframe\">\n",
       "  <thead>\n",
       "    <tr style=\"text-align: right;\">\n",
       "      <th>parameter</th>\n",
       "      <th>o3 (ppm)</th>\n",
       "      <th>pm2.5 (µg/m³)</th>\n",
       "    </tr>\n",
       "  </thead>\n",
       "  <tbody>\n",
       "    <tr>\n",
       "      <th>0</th>\n",
       "      <td>0.001</td>\n",
       "      <td>61.7</td>\n",
       "    </tr>\n",
       "    <tr>\n",
       "      <th>1</th>\n",
       "      <td>0.001</td>\n",
       "      <td>67.8</td>\n",
       "    </tr>\n",
       "    <tr>\n",
       "      <th>2</th>\n",
       "      <td>0.001</td>\n",
       "      <td>109.9</td>\n",
       "    </tr>\n",
       "    <tr>\n",
       "      <th>3</th>\n",
       "      <td>0.001</td>\n",
       "      <td>127.4</td>\n",
       "    </tr>\n",
       "    <tr>\n",
       "      <th>4</th>\n",
       "      <td>0.001</td>\n",
       "      <td>122.2</td>\n",
       "    </tr>\n",
       "  </tbody>\n",
       "</table>\n",
       "</div>"
      ],
      "text/plain": [
       "parameter  o3 (ppm)  pm2.5 (µg/m³)\n",
       "0             0.001           61.7\n",
       "1             0.001           67.8\n",
       "2             0.001          109.9\n",
       "3             0.001          127.4\n",
       "4             0.001          122.2"
      ]
     },
     "execution_count": 67,
     "metadata": {},
     "output_type": "execute_result"
    }
   ],
   "source": [
    "df.head()"
   ]
  },
  {
   "cell_type": "code",
   "execution_count": 68,
   "metadata": {},
   "outputs": [],
   "source": [
    "df2 = df.assign(datetime=date_time)"
   ]
  },
  {
   "cell_type": "code",
   "execution_count": 73,
   "metadata": {},
   "outputs": [
    {
     "data": {
      "text/html": [
       "<div>\n",
       "<style scoped>\n",
       "    .dataframe tbody tr th:only-of-type {\n",
       "        vertical-align: middle;\n",
       "    }\n",
       "\n",
       "    .dataframe tbody tr th {\n",
       "        vertical-align: top;\n",
       "    }\n",
       "\n",
       "    .dataframe thead th {\n",
       "        text-align: right;\n",
       "    }\n",
       "</style>\n",
       "<table border=\"1\" class=\"dataframe\">\n",
       "  <thead>\n",
       "    <tr style=\"text-align: right;\">\n",
       "      <th>parameter</th>\n",
       "      <th>datetime</th>\n",
       "      <th>o3 (ppm)</th>\n",
       "      <th>pm2.5 (µg/m³)</th>\n",
       "    </tr>\n",
       "  </thead>\n",
       "  <tbody>\n",
       "    <tr>\n",
       "      <th>0</th>\n",
       "      <td>2016-11-09 23:00:00+06:00</td>\n",
       "      <td>0.001</td>\n",
       "      <td>61.7</td>\n",
       "    </tr>\n",
       "    <tr>\n",
       "      <th>1</th>\n",
       "      <td>2016-11-10 00:00:00+06:00</td>\n",
       "      <td>0.001</td>\n",
       "      <td>67.8</td>\n",
       "    </tr>\n",
       "    <tr>\n",
       "      <th>2</th>\n",
       "      <td>2016-11-10 01:00:00+06:00</td>\n",
       "      <td>0.001</td>\n",
       "      <td>109.9</td>\n",
       "    </tr>\n",
       "    <tr>\n",
       "      <th>3</th>\n",
       "      <td>2016-11-10 02:00:00+06:00</td>\n",
       "      <td>0.001</td>\n",
       "      <td>127.4</td>\n",
       "    </tr>\n",
       "    <tr>\n",
       "      <th>4</th>\n",
       "      <td>2016-11-10 03:00:00+06:00</td>\n",
       "      <td>0.001</td>\n",
       "      <td>122.2</td>\n",
       "    </tr>\n",
       "  </tbody>\n",
       "</table>\n",
       "</div>"
      ],
      "text/plain": [
       "parameter                  datetime  o3 (ppm)  pm2.5 (µg/m³)\n",
       "0         2016-11-09 23:00:00+06:00     0.001           61.7\n",
       "1         2016-11-10 00:00:00+06:00     0.001           67.8\n",
       "2         2016-11-10 01:00:00+06:00     0.001          109.9\n",
       "3         2016-11-10 02:00:00+06:00     0.001          127.4\n",
       "4         2016-11-10 03:00:00+06:00     0.001          122.2"
      ]
     },
     "execution_count": 73,
     "metadata": {},
     "output_type": "execute_result"
    }
   ],
   "source": [
    "df2.head()"
   ]
  },
  {
   "cell_type": "code",
   "execution_count": 70,
   "metadata": {},
   "outputs": [],
   "source": [
    "df2.set_index('datetime', inplace=True)"
   ]
  },
  {
   "cell_type": "code",
   "execution_count": 72,
   "metadata": {},
   "outputs": [],
   "source": [
    "df2 =df2.reset_index()"
   ]
  },
  {
   "cell_type": "code",
   "execution_count": 74,
   "metadata": {},
   "outputs": [],
   "source": [
    "df2.to_csv('../datasets/aqi/generated/combined_aqi_bulk_modified.csv', index=False, header=True)"
   ]
  },
  {
   "cell_type": "code",
   "execution_count": null,
   "metadata": {},
   "outputs": [],
   "source": []
  }
 ],
 "metadata": {
  "kernelspec": {
   "display_name": ".venv",
   "language": "python",
   "name": "python3"
  },
  "language_info": {
   "codemirror_mode": {
    "name": "ipython",
    "version": 3
   },
   "file_extension": ".py",
   "mimetype": "text/x-python",
   "name": "python",
   "nbconvert_exporter": "python",
   "pygments_lexer": "ipython3",
   "version": "3.10.15"
  }
 },
 "nbformat": 4,
 "nbformat_minor": 2
}
